{
 "cells": [
  {
   "cell_type": "markdown",
   "id": "982037ec",
   "metadata": {},
   "source": [
    "# Desafio Python e SQL\n",
    "\n",
    "### ATENÇÃO\n",
    "\n",
    "**SEMPRE FECHE A CONEXÃO E O CURSOR**"
   ]
  },
  {
   "cell_type": "code",
   "execution_count": 4,
   "id": "09d723d9",
   "metadata": {},
   "outputs": [],
   "source": [
    "import pyodbc\n",
    "\n",
    "dados_conexao = (\"Driver={SQLite 3 ODBC Driver};Server=localhost;Database=chinook.db\")\n",
    "\n",
    "conexao = pyodbc.connect(dados_conexao)\n",
    "\n",
    "cursor = conexao.cursor()"
   ]
  },
  {
   "cell_type": "code",
   "execution_count": null,
   "id": "d31b0910",
   "metadata": {},
   "outputs": [],
   "source": [
    "cursor.execute()\n",
    "\n",
    "cursor.close()\n",
    "conexao.close() # finalizar a conexao"
   ]
  }
 ],
 "metadata": {
  "kernelspec": {
   "display_name": "Python 3 (ipykernel)",
   "language": "python",
   "name": "python3"
  },
  "language_info": {
   "codemirror_mode": {
    "name": "ipython",
    "version": 3
   },
   "file_extension": ".py",
   "mimetype": "text/x-python",
   "name": "python",
   "nbconvert_exporter": "python",
   "pygments_lexer": "ipython3",
   "version": "3.9.12"
  }
 },
 "nbformat": 4,
 "nbformat_minor": 5
}
