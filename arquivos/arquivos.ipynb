{
 "cells": [
  {
   "cell_type": "code",
   "execution_count": 51,
   "id": "4c51b4a4",
   "metadata": {
    "scrolled": false
   },
   "outputs": [],
   "source": [
    "from pathlib import Path\n",
    "import shutil\n",
    "\n",
    "caminho = Path('/home/victor/Área de Trabalho/Arquivos_Lojas')\n",
    "\n",
    "estados = ['RJ', 'MG', 'AM', 'SP', 'GO']\n",
    "for estado in estados:\n",
    "    arquivos = caminho.iterdir()\n",
    "    if not (caminho / estado).exists():\n",
    "        Path.mkdir(caminho / estado)\n",
    "    for arquivo in arquivos:\n",
    "        nome_estado = '_' + estado\n",
    "        if nome_estado in arquivo.name:\n",
    "            shutil.move('Arquivos_Lojas/' + arquivo.name, 'Arquivos_Lojas/' + estado + '/' + arquivo.name)"
   ]
  },
  {
   "cell_type": "code",
   "execution_count": null,
   "id": "4a36f68d",
   "metadata": {},
   "outputs": [],
   "source": []
  }
 ],
 "metadata": {
  "kernelspec": {
   "display_name": "Python 3 (ipykernel)",
   "language": "python",
   "name": "python3"
  },
  "language_info": {
   "codemirror_mode": {
    "name": "ipython",
    "version": 3
   },
   "file_extension": ".py",
   "mimetype": "text/x-python",
   "name": "python",
   "nbconvert_exporter": "python",
   "pygments_lexer": "ipython3",
   "version": "3.8.10"
  }
 },
 "nbformat": 4,
 "nbformat_minor": 5
}
