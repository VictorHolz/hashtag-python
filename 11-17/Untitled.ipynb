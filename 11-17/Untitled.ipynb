{
 "cells": [
  {
   "cell_type": "code",
   "execution_count": 1,
   "id": "656d1c45",
   "metadata": {},
   "outputs": [
    {
     "name": "stderr",
     "output_type": "stream",
     "text": [
      "[WDM] - Downloading: 100%|████████████████████████| 6.35M/6.35M [00:02<00:00, 2.41MB/s]\n"
     ]
    }
   ],
   "source": [
    "from selenium import webdriver\n",
    "from selenium.webdriver.chrome.service import Service\n",
    "from selenium.webdriver.common.by import By\n",
    "from webdriver_manager.chrome import ChromeDriverManager\n",
    "\n",
    "servico = Service(ChromeDriverManager().install())\n",
    "driver = webdriver.Chrome(service=servico)"
   ]
  },
  {
   "cell_type": "code",
   "execution_count": 3,
   "id": "f4f738fd",
   "metadata": {},
   "outputs": [],
   "source": [
    "import os\n",
    "\n",
    "caminho = os.getcwd()\n",
    "caminho\n",
    "arquivo = 'file://' + caminho + '/formulario.html'\n",
    "driver.get(arquivo)"
   ]
  },
  {
   "cell_type": "code",
   "execution_count": 5,
   "id": "eb2c997a",
   "metadata": {},
   "outputs": [],
   "source": [
    "driver.find_element(By.CSS_SELECTOR, 'input').click()\n",
    "alerta = driver.switch_to.alert\n",
    "alerta.accept()"
   ]
  },
  {
   "cell_type": "code",
   "execution_count": 20,
   "id": "25ba7ad5",
   "metadata": {},
   "outputs": [],
   "source": [
    "# clicar no botão\n",
    "driver.find_element(By.XPATH, '/html/body/form/input[3]').click()"
   ]
  },
  {
   "cell_type": "code",
   "execution_count": 21,
   "id": "61ee8280",
   "metadata": {},
   "outputs": [
    {
     "data": {
      "text/plain": [
       "True"
      ]
     },
     "execution_count": 21,
     "metadata": {},
     "output_type": "execute_result"
    }
   ],
   "source": [
    "# verificar valor do botão\n",
    "driver.find_element(By.XPATH, '/html/body/form/input[3]').is_selected()"
   ]
  },
  {
   "cell_type": "code",
   "execution_count": 22,
   "id": "e3375488",
   "metadata": {},
   "outputs": [],
   "source": [
    "# preencher\n",
    "driver.find_element(By.XPATH, '/html/body/form/input[16]').send_keys('Vasco')"
   ]
  },
  {
   "cell_type": "code",
   "execution_count": 25,
   "id": "9a25b759",
   "metadata": {},
   "outputs": [
    {
     "data": {
      "text/plain": [
       "'Vasco'"
      ]
     },
     "execution_count": 25,
     "metadata": {},
     "output_type": "execute_result"
    }
   ],
   "source": [
    "# verificar valor do campo\n",
    "driver.find_element(By.XPATH, '/html/body/form/input[16]').get_attribute('value')"
   ]
  },
  {
   "cell_type": "code",
   "execution_count": 15,
   "id": "a132f631",
   "metadata": {},
   "outputs": [],
   "source": [
    "from selenium.webdriver.common.keys import Keys\n",
    "#preenchendo\n",
    "driver.find_element(By.XPATH, 'html/body/form/input[7]').send_keys('15/02/1994', Keys.TAB, '22:00')"
   ]
  },
  {
   "cell_type": "code",
   "execution_count": 29,
   "id": "a138d15f",
   "metadata": {},
   "outputs": [
    {
     "data": {
      "text/plain": [
       "''"
      ]
     },
     "execution_count": 29,
     "metadata": {},
     "output_type": "execute_result"
    }
   ],
   "source": [
    "# pegar o valor\n",
    "driver.find_element(By.XPATH, 'html/body/form/input[8]').get_attribute('value')"
   ]
  },
  {
   "cell_type": "code",
   "execution_count": 30,
   "id": "5c949f84",
   "metadata": {},
   "outputs": [],
   "source": [
    "# preenchendo\n",
    "driver.find_element(By.XPATH, 'html/body/form/input[8]').send_keys('/home/victor/Área de Trabalho/selenium/11/formulario.html')"
   ]
  },
  {
   "cell_type": "code",
   "execution_count": 28,
   "id": "ffbec027",
   "metadata": {},
   "outputs": [
    {
     "data": {
      "text/plain": [
       "'100'"
      ]
     },
     "execution_count": 28,
     "metadata": {},
     "output_type": "execute_result"
    }
   ],
   "source": [
    "# pegar o valor\n",
    "driver.find_element(By.XPATH, 'html/body/form/input[15]').get_attribute('value')"
   ]
  },
  {
   "cell_type": "code",
   "execution_count": 27,
   "id": "00bdfe94",
   "metadata": {},
   "outputs": [],
   "source": [
    "# preenchendo\n",
    "elemento = driver.find_element(By.XPATH, 'html/body/form/input[15]')\n",
    "elemento.clear()\n",
    "\n",
    "for i in range(50):\n",
    "    elemento.send_keys(Keys.ARROW_RIGHT)"
   ]
  },
  {
   "cell_type": "code",
   "execution_count": 33,
   "id": "18b401e9",
   "metadata": {},
   "outputs": [
    {
     "data": {
      "text/plain": [
       "'b'"
      ]
     },
     "execution_count": 33,
     "metadata": {},
     "output_type": "execute_result"
    }
   ],
   "source": [
    "# pegar o valor\n",
    "driver.find_element(By.XPATH, '/html/body/form/select[1]').get_attribute('value')"
   ]
  },
  {
   "cell_type": "code",
   "execution_count": 30,
   "id": "24a8521c",
   "metadata": {},
   "outputs": [],
   "source": [
    "driver.find_element(By.XPATH, '/html/body/form/select[1]').send_keys('C')"
   ]
  },
  {
   "cell_type": "code",
   "execution_count": 32,
   "id": "26c07f2b",
   "metadata": {},
   "outputs": [],
   "source": [
    "from time import sleep\n",
    "driver.find_element(By.XPATH, 'html/body/form/select[1]').click()\n",
    "sleep(0.5)\n",
    "driver.find_element(By.XPATH, 'html/body/form/select[1]/option[2]').click()"
   ]
  },
  {
   "cell_type": "code",
   "execution_count": null,
   "id": "964e2cff",
   "metadata": {},
   "outputs": [],
   "source": []
  }
 ],
 "metadata": {
  "kernelspec": {
   "display_name": "Python 3 (ipykernel)",
   "language": "python",
   "name": "python3"
  },
  "language_info": {
   "codemirror_mode": {
    "name": "ipython",
    "version": 3
   },
   "file_extension": ".py",
   "mimetype": "text/x-python",
   "name": "python",
   "nbconvert_exporter": "python",
   "pygments_lexer": "ipython3",
   "version": "3.9.12"
  }
 },
 "nbformat": 4,
 "nbformat_minor": 5
}
