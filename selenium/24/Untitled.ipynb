{
 "cells": [
  {
   "cell_type": "code",
   "execution_count": 28,
   "id": "832d5e8d",
   "metadata": {},
   "outputs": [
    {
     "name": "stderr",
     "output_type": "stream",
     "text": [
      "[WDM] - Downloading: 100%|██████████████████████| 6.35M/6.35M [00:01<00:00, 3.91MB/s]\n"
     ]
    }
   ],
   "source": [
    "#criar o navegador\n",
    "from selenium import webdriver\n",
    "from selenium.webdriver.chrome.service import Service\n",
    "from webdriver_manager.chrome import ChromeDriverManager\n",
    "from selenium.webdriver.common.by import By\n",
    "\n",
    "servico = Service(ChromeDriverManager().install())\n",
    "driver = webdriver.Chrome(service=servico)"
   ]
  },
  {
   "cell_type": "code",
   "execution_count": 34,
   "id": "30550444",
   "metadata": {},
   "outputs": [],
   "source": [
    "# na marra, importando sleep\n",
    "from time import sleep\n",
    "\n",
    "driver.get('https://www.hashtagtreinamentos.com/')\n",
    "sleep(15)\n",
    "driver.find_element(By.XPATH, '/html/body/div[2]/div/div[4]').click()"
   ]
  },
  {
   "cell_type": "code",
   "execution_count": 38,
   "id": "a65eade5",
   "metadata": {},
   "outputs": [],
   "source": [
    "# loop\n",
    "from time import sleep\n",
    "\n",
    "driver.get('https://www.hashtagtreinamentos.com/')\n",
    "\n",
    "while len(driver.find_elements(By.XPATH, '/html/body/div[2]/div/div[4]')) < 1:\n",
    "    sleep(1)\n",
    "\n",
    "sleep(1)\n",
    "driver.find_element(By.XPATH, '/html/body/div[2]/div/div[4]').click()"
   ]
  },
  {
   "cell_type": "code",
   "execution_count": 42,
   "id": "3200fa9d",
   "metadata": {},
   "outputs": [],
   "source": [
    "# EC WebDriverWait\n",
    "from selenium.webdriver.support.ui import WebDriverWait\n",
    "from selenium.webdriver.support import expected_conditions as EC\n",
    "\n",
    "driver.get('https://www.hashtagtreinamentos.com/')\n",
    "\n",
    "elemento = WebDriverWait(driver, 10).until(EC.presence_of_element_located((By.XPATH, '/html/body/div[2]/div/div[4]')))\n",
    "elemento.click()"
   ]
  },
  {
   "cell_type": "code",
   "execution_count": null,
   "id": "b5338e54",
   "metadata": {},
   "outputs": [],
   "source": []
  }
 ],
 "metadata": {
  "kernelspec": {
   "display_name": "Python 3 (ipykernel)",
   "language": "python",
   "name": "python3"
  },
  "language_info": {
   "codemirror_mode": {
    "name": "ipython",
    "version": 3
   },
   "file_extension": ".py",
   "mimetype": "text/x-python",
   "name": "python",
   "nbconvert_exporter": "python",
   "pygments_lexer": "ipython3",
   "version": "3.9.12"
  }
 },
 "nbformat": 4,
 "nbformat_minor": 5
}
