{
 "cells": [
  {
   "cell_type": "code",
   "execution_count": 66,
   "id": "63974b87",
   "metadata": {},
   "outputs": [],
   "source": [
    "from selenium import webdriver\n",
    "from selenium.webdriver.chrome.service import Service\n",
    "from webdriver_manager.chrome import ChromeDriverManager\n",
    "from selenium.webdriver.common.by import By\n",
    "\n",
    "servico = Service(ChromeDriverManager().install())\n",
    "driver = webdriver.Chrome(service=servico)"
   ]
  },
  {
   "cell_type": "code",
   "execution_count": 68,
   "id": "6f7d9639",
   "metadata": {
    "scrolled": true
   },
   "outputs": [
    {
     "name": "stderr",
     "output_type": "stream",
     "text": [
      "/tmp/ipykernel_193167/1394788077.py:54: SettingWithCopyWarning: \n",
      "A value is trying to be set on a copy of a slice from a DataFrame\n",
      "\n",
      "See the caveats in the documentation: https://pandas.pydata.org/pandas-docs/stable/user_guide/indexing.html#returning-a-view-versus-a-copy\n",
      "  df['Status'][i] = \"Encontrado\"\n"
     ]
    }
   ],
   "source": [
    "import pandas as pd\n",
    "import os\n",
    "from selenium.webdriver.common.action_chains import ActionChains\n",
    "from selenium.webdriver.common.alert import Alert\n",
    "from time import sleep\n",
    "\n",
    "df = pd.read_excel('Processos.xlsx')\n",
    "\n",
    "caminho = os.getcwd()\n",
    "arquivo = 'file://' + caminho + '/index.html'\n",
    "\n",
    "driver.get(arquivo)\n",
    "\n",
    "for i, processo in enumerate(df['Nome']):\n",
    "    menu = driver.find_element(By.XPATH, '/html/body/div/div/button')\n",
    "    estados = driver.find_elements(By.CSS_SELECTOR, 'div > a')\n",
    "    \n",
    "    estados = {\n",
    "        'Distrito Federal': estados[0],\n",
    "        'Rio de Janeiro': estados[1],\n",
    "        'São Paulo': estados[2]\n",
    "    }\n",
    "\n",
    "    ActionChains(driver).move_to_element(menu).perform()\n",
    "    estados[df['Cidade'][i]].click()\n",
    "\n",
    "    aba_original = driver.window_handles[0]\n",
    "    nova_aba = driver.window_handles[1]\n",
    "    driver.switch_to.window(nova_aba)\n",
    "\n",
    "    nome = df['Nome'][i]\n",
    "    driver.find_element(By.XPATH, '//*[@id=\"nome\"]').send_keys(nome)\n",
    "\n",
    "    advogado = df['Advogado'][i]\n",
    "    driver.find_element(By.XPATH, '//*[@id=\"advogado\"]').send_keys(advogado)\n",
    "\n",
    "    processo = df['Processo'][i]\n",
    "    driver.find_element(By.XPATH, '//*[@id=\"numero\"]').send_keys(processo)\n",
    "\n",
    "    driver.find_element(By.XPATH, '//*[@id=\"formulario\"]/div/button').click()\n",
    "\n",
    "    alerta = Alert(driver)\n",
    "    alerta.accept()\n",
    "    \n",
    "    while True:\n",
    "        try:\n",
    "            alerta = driver.switch_to.alert\n",
    "            break\n",
    "        except:\n",
    "            sleep(1)\n",
    "    texto_alerta = alerta.text\n",
    "    \n",
    "    if \"Processo encontrado com sucesso\" in texto_alerta:\n",
    "        df['Status'][i] = \"Encontrado\"\n",
    "        alerta.accept()\n",
    "    else:\n",
    "        df['Status'][i] = \"Não encontrado\"\n",
    "        alerta.accept()\n",
    "    \n",
    "    driver.close()\n",
    "\n",
    "    driver.switch_to.window(aba_original)"
   ]
  },
  {
   "cell_type": "code",
   "execution_count": 69,
   "id": "bd990abc",
   "metadata": {},
   "outputs": [
    {
     "data": {
      "text/html": [
       "<div>\n",
       "<style scoped>\n",
       "    .dataframe tbody tr th:only-of-type {\n",
       "        vertical-align: middle;\n",
       "    }\n",
       "\n",
       "    .dataframe tbody tr th {\n",
       "        vertical-align: top;\n",
       "    }\n",
       "\n",
       "    .dataframe thead th {\n",
       "        text-align: right;\n",
       "    }\n",
       "</style>\n",
       "<table border=\"1\" class=\"dataframe\">\n",
       "  <thead>\n",
       "    <tr style=\"text-align: right;\">\n",
       "      <th></th>\n",
       "      <th>Nome</th>\n",
       "      <th>Advogado</th>\n",
       "      <th>Processo</th>\n",
       "      <th>Cidade</th>\n",
       "      <th>Status</th>\n",
       "    </tr>\n",
       "  </thead>\n",
       "  <tbody>\n",
       "    <tr>\n",
       "      <th>0</th>\n",
       "      <td>Lira</td>\n",
       "      <td>Alon Lawyer</td>\n",
       "      <td>PC6592</td>\n",
       "      <td>Distrito Federal</td>\n",
       "      <td>Encontrado</td>\n",
       "    </tr>\n",
       "    <tr>\n",
       "      <th>1</th>\n",
       "      <td>João</td>\n",
       "      <td>Lawyer Alon</td>\n",
       "      <td>EB3792</td>\n",
       "      <td>Rio de Janeiro</td>\n",
       "      <td>Encontrado</td>\n",
       "    </tr>\n",
       "    <tr>\n",
       "      <th>2</th>\n",
       "      <td>Amanda</td>\n",
       "      <td>Amanda mesmo</td>\n",
       "      <td>MM1043</td>\n",
       "      <td>Rio de Janeiro</td>\n",
       "      <td>Encontrado</td>\n",
       "    </tr>\n",
       "    <tr>\n",
       "      <th>3</th>\n",
       "      <td>Carol</td>\n",
       "      <td>Amanda</td>\n",
       "      <td>PC5197</td>\n",
       "      <td>São Paulo</td>\n",
       "      <td>Encontrado</td>\n",
       "    </tr>\n",
       "  </tbody>\n",
       "</table>\n",
       "</div>"
      ],
      "text/plain": [
       "     Nome      Advogado Processo            Cidade      Status\n",
       "0    Lira   Alon Lawyer   PC6592  Distrito Federal  Encontrado\n",
       "1    João   Lawyer Alon   EB3792    Rio de Janeiro  Encontrado\n",
       "2  Amanda  Amanda mesmo   MM1043    Rio de Janeiro  Encontrado\n",
       "3   Carol        Amanda   PC5197         São Paulo  Encontrado"
      ]
     },
     "metadata": {},
     "output_type": "display_data"
    }
   ],
   "source": [
    "driver.quit()\n",
    "display(df)\n",
    "\n",
    "df.to_excel('Processos Atualizado.xlsx')"
   ]
  },
  {
   "cell_type": "code",
   "execution_count": null,
   "id": "89ca115c",
   "metadata": {},
   "outputs": [],
   "source": []
  }
 ],
 "metadata": {
  "kernelspec": {
   "display_name": "Python 3 (ipykernel)",
   "language": "python",
   "name": "python3"
  },
  "language_info": {
   "codemirror_mode": {
    "name": "ipython",
    "version": 3
   },
   "file_extension": ".py",
   "mimetype": "text/x-python",
   "name": "python",
   "nbconvert_exporter": "python",
   "pygments_lexer": "ipython3",
   "version": "3.9.12"
  }
 },
 "nbformat": 4,
 "nbformat_minor": 5
}
