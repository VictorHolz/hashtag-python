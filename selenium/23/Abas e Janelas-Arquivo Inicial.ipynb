{
 "cells": [
  {
   "cell_type": "markdown",
   "id": "367cd714",
   "metadata": {
    "id": "367cd714"
   },
   "source": [
    "### Documentação Selenium:\n",
    "\n",
    "- https://selenium-python.readthedocs.io/locating-elements.html"
   ]
  },
  {
   "cell_type": "code",
   "execution_count": 1,
   "id": "4e28f9f7",
   "metadata": {
    "id": "4e28f9f7"
   },
   "outputs": [],
   "source": [
    "from selenium import webdriver\n",
    "from selenium.webdriver.chrome.service import Service\n",
    "from webdriver_manager.chrome import ChromeDriverManager\n",
    "from selenium.webdriver.common.by import By\n",
    "\n",
    "servico = Service(ChromeDriverManager().install())\n",
    "navegador = webdriver.Chrome(service=servico)"
   ]
  },
  {
   "cell_type": "code",
   "execution_count": 3,
   "id": "59c8398d",
   "metadata": {
    "id": "59c8398d"
   },
   "outputs": [],
   "source": [
    "import os\n",
    "\n",
    "caminho = os.getcwd()\n",
    "arquivo = caminho + \"/Pagina Hashtag.html\"\n",
    "navegador.get('file://' + arquivo)"
   ]
  },
  {
   "cell_type": "markdown",
   "id": "1a0d1ae6",
   "metadata": {
    "id": "1a0d1ae6"
   },
   "source": [
    "#### Botão que abre outra janela"
   ]
  },
  {
   "cell_type": "code",
   "execution_count": 4,
   "id": "d90ab797",
   "metadata": {
    "id": "d90ab797"
   },
   "outputs": [],
   "source": [
    "navegador.find_element(By.XPATH, '/html/body/section[2]/div/div[6]/figure/a/img').click()"
   ]
  },
  {
   "cell_type": "markdown",
   "id": "80f18fcd",
   "metadata": {
    "id": "80f18fcd"
   },
   "source": [
    "### Outra aba"
   ]
  },
  {
   "cell_type": "code",
   "execution_count": 6,
   "id": "dbac0005",
   "metadata": {
    "id": "dbac0005"
   },
   "outputs": [],
   "source": [
    "aba_original = navegador.window_handles[0]\n",
    "nova_aba = navegador.window_handles[1]\n",
    "\n",
    "navegador.switch_to.window(nova_aba)"
   ]
  },
  {
   "cell_type": "code",
   "execution_count": 7,
   "id": "ee442be2",
   "metadata": {},
   "outputs": [],
   "source": [
    "navegador.find_element(By.NAME, 'firstname').send_keys('Lira')\n",
    "navegador.find_element(By.NAME, 'email').send_keys('lira@lira.com')"
   ]
  },
  {
   "cell_type": "code",
   "execution_count": 8,
   "id": "579e80a3",
   "metadata": {},
   "outputs": [],
   "source": [
    "navegador.switch_to.window(aba_original)\n",
    "navegador.find_element(By.XPATH, '/html/body/section[2]/div/div[4]/figure/a/img').click()"
   ]
  },
  {
   "cell_type": "code",
   "execution_count": 9,
   "id": "2f058543",
   "metadata": {},
   "outputs": [
    {
     "name": "stdout",
     "output_type": "stream",
     "text": [
      "Todos os Cursos Hashtag Treinamentos\n",
      "Curso Power BI Avançado | Projetos Reais e +80h de Conteúdo\n",
      "Curso de Excel Online Avançado, Completo e Com Certificado!\n"
     ]
    }
   ],
   "source": [
    "# ver os titulos de todas as abas\n",
    "for aba in navegador.window_handles:\n",
    "    navegador.switch_to.window(aba)\n",
    "    print(navegador.title)"
   ]
  },
  {
   "cell_type": "markdown",
   "id": "16053597",
   "metadata": {
    "id": "16053597"
   },
   "source": [
    "### Outra janela"
   ]
  },
  {
   "cell_type": "code",
   "execution_count": 13,
   "id": "f79746e1",
   "metadata": {
    "id": "f79746e1"
   },
   "outputs": [
    {
     "name": "stdout",
     "output_type": "stream",
     "text": [
      "4\n"
     ]
    }
   ],
   "source": [
    "lista_abas = navegador.window_handles\n",
    "print(len(lista_abas))"
   ]
  },
  {
   "cell_type": "code",
   "execution_count": 15,
   "id": "1c84fb27",
   "metadata": {},
   "outputs": [],
   "source": [
    "aba_sql = navegador.window_handles[3]\n",
    "navegador.switch_to.window(aba_sql)\n",
    "navegador.find_element(By.NAME, 'firstname').send_keys('LiraSQL')\n",
    "navegador.find_element(By.NAME, 'email').send_keys('lira@lira.com')"
   ]
  },
  {
   "cell_type": "code",
   "execution_count": null,
   "id": "25e5ff87",
   "metadata": {},
   "outputs": [],
   "source": [
    "navegador.close()"
   ]
  },
  {
   "cell_type": "code",
   "execution_count": null,
   "id": "4446e541",
   "metadata": {},
   "outputs": [],
   "source": [
    "navegador.quit()"
   ]
  }
 ],
 "metadata": {
  "colab": {
   "name": "Abas e Janelas-Arquivo Inicial.ipynb",
   "provenance": []
  },
  "kernelspec": {
   "display_name": "Python 3 (ipykernel)",
   "language": "python",
   "name": "python3"
  },
  "language_info": {
   "codemirror_mode": {
    "name": "ipython",
    "version": 3
   },
   "file_extension": ".py",
   "mimetype": "text/x-python",
   "name": "python",
   "nbconvert_exporter": "python",
   "pygments_lexer": "ipython3",
   "version": "3.9.12"
  }
 },
 "nbformat": 4,
 "nbformat_minor": 5
}
