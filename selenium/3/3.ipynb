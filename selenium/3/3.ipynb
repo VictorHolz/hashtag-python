{
 "cells": [
  {
   "cell_type": "code",
   "execution_count": 9,
   "id": "e848ce45",
   "metadata": {},
   "outputs": [],
   "source": [
    "from selenium import webdriver\n",
    "\n",
    "driver = webdriver.Chrome()"
   ]
  },
  {
   "cell_type": "code",
   "execution_count": 10,
   "id": "c2e824ec",
   "metadata": {},
   "outputs": [],
   "source": [
    "driver.get('file:///home/victor/Downloads/teste.html')"
   ]
  },
  {
   "cell_type": "code",
   "execution_count": null,
   "id": "6622ec4c",
   "metadata": {},
   "outputs": [],
   "source": []
  }
 ],
 "metadata": {
  "kernelspec": {
   "display_name": "Python 3 (ipykernel)",
   "language": "python",
   "name": "python3"
  },
  "language_info": {
   "codemirror_mode": {
    "name": "ipython",
    "version": 3
   },
   "file_extension": ".py",
   "mimetype": "text/x-python",
   "name": "python",
   "nbconvert_exporter": "python",
   "pygments_lexer": "ipython3",
   "version": "3.9.12"
  }
 },
 "nbformat": 4,
 "nbformat_minor": 5
}
