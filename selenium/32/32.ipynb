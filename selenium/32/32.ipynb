{
 "cells": [
  {
   "cell_type": "markdown",
   "id": "0b2a45b2",
   "metadata": {},
   "source": [
    "### Executar Comandos Javascript (Scroll da tela)\n",
    "\n",
    "- Você consegue, por meio do Selenium, executar comandos javascript no seu navegador\n",
    "\n",
    "- Isso é essencial para dar scroll na tela, por exemplo, caso seja necessário, como no youtube"
   ]
  },
  {
   "cell_type": "code",
   "execution_count": 4,
   "id": "e5ab2cda",
   "metadata": {},
   "outputs": [
    {
     "name": "stderr",
     "output_type": "stream",
     "text": [
      "[WDM] - Downloading: 100%|█████████████████| 6.35M/6.35M [00:02<00:00, 2.39MB/s]\n"
     ]
    }
   ],
   "source": [
    "from selenium import webdriver\n",
    "from selenium.webdriver.chrome.service import Service\n",
    "from selenium.webdriver.common.by import By\n",
    "from webdriver_manager.chrome import ChromeDriverManager\n",
    "\n",
    "servico = Service(ChromeDriverManager().install())\n",
    "driver = webdriver.Chrome(service=servico)"
   ]
  },
  {
   "cell_type": "code",
   "execution_count": 17,
   "id": "4a7bccbc",
   "metadata": {},
   "outputs": [],
   "source": [
    "driver.get('https://www.youtube.com/results?search_query=python')"
   ]
  },
  {
   "cell_type": "code",
   "execution_count": 19,
   "id": "5ec21fd2",
   "metadata": {},
   "outputs": [
    {
     "name": "stdout",
     "output_type": "stream",
     "text": [
      "None\n",
      "https://www.googleadservices.com/pagead/aclk?sa=L&ai=CEoVyqnc9Y4KpGIHP1sQPhbu8qAfOo8fTZ9HhzZ6hD8CNtwEQASAAYM2AgICkA4IBF2NhLXB1Yi02MjE5ODExNzQ3MDQ5MzcxoAHPj5aXA6kCu-gKP87siT6oAwSqBP8BT9BGA7J_LggXdjYlcPU6jpNPAH1Fcy1HHDpAFbY89apcMWw-lDU-9tPAhYc7No6NCgYt7uZ5dAhV22Usrzcje35BoUSs_9hs76MexrFj_D9DNuhynylJY603SKcbAzko0GCX4lRPQbPM1_SR-TEl23I22JMBdM51yBs4uYihhc5hw6gLTfwCqDUN0TOdal1Zog78VUYAgnvV-njzf09pBc-5Ojvs6wF8-QQCViw-oFLc5uiivsYwED6h0R4JdH3BiQh-En53NoN0vrwtxouXhqo3zmsXDReYlUYhL5MaMChWj7i_tlfxdFhreKSaPhH773D15osYLqR8ofQAAcOTkgUMCBIwl5jV0vTuiLNckgUHCBN4gMOHaaAGVYAHmfDpaJAHBKgHhAioB6jSG6gHtgeoB-DPG6gH6dQbqAeMzRuoB7HcG6gHpJqxAqgHkZ-xAqgHsJuxAqgH36GxAqgHgcYbqAfVzhuoB6vFG6gHnNwbqAfmnbECqAfIn7ECqAe3obECqAfVqbECkggLWEdZamQwcFZUQmOoCAHSCA4IgEEQARgAMgKCAjoBALEJ9HhhlFvuXPbICRfICY8BmAsBugsyCAMQBRgGIAYoATAFQAFIAFgLYABoAHABiAEAmAEBogEICgCYAgKoAgHYAQGAAgGIAgTQCxO4DAG4E____________wGwFAPAFYGAgEDQFQHYFQGYFgGAFwGKFwoIAxgBKAEwATgBoBcB&num=1&cid=CAASFeRo3ZTmdkiceDUMJN-9PBOZpieEeA&ad_cpn=%5BCPN%5D&sig=AOD64_1dicObMCMb6w8nsegqavWFfruEYw&adurl=https://www.youtube.com/watch%3Fv%3DXGYjd0pVTBc&ctype=21&video_id=XGYjd0pVTBc&client=ca-pub-6219811747049371\n",
      "https://www.youtube.com/watch?v=L2dOYOhhDtg\n",
      "https://www.youtube.com/watch?v=S9uPNppGsGo&list=PLvE-ZAFRgX8hnECDn1v9HNTI71veL3oW0\n",
      "https://www.youtube.com/watch?v=oxwdD-FGGyg\n",
      "https://www.youtube.com/watch?v=Q8eajxcS6dQ\n",
      "https://www.youtube.com/watch?v=VuKvR1J2LQE\n",
      "https://www.youtube.com/watch?v=uOgDa1rlqjE\n",
      "https://www.youtube.com/watch?v=31llNGKWDdo\n",
      "https://www.youtube.com/watch?v=thpdTDcgPNA\n",
      "https://www.youtube.com/watch?v=N5RmdzJeTXQ\n",
      "https://www.youtube.com/watch?v=szlM0d2l6XQ\n",
      "https://www.youtube.com/watch?v=I9pe14IgVco\n",
      "https://www.youtube.com/watch?v=Dp-biEtYiO4\n",
      "https://www.youtube.com/watch?v=DXmCU7v9glM\n",
      "https://www.youtube.com/watch?v=je26Ikw2rpg\n",
      "https://www.youtube.com/watch?v=OqwZGkif3ro\n",
      "https://www.youtube.com/watch?v=kuYzs7YMOOI\n",
      "https://www.youtube.com/watch?v=GQpQha2Mfpg\n",
      "https://www.youtube.com/watch?v=xOldKdP_ZII\n",
      "https://www.youtube.com/watch?v=ElRd0cbXIv4\n",
      "https://www.youtube.com/watch?v=Mp0vhMDI7fA\n",
      "https://www.youtube.com/watch?v=hdDHg1p3YVc\n",
      "https://www.youtube.com/watch?v=5L4Yig1dtzQ\n",
      "https://www.youtube.com/watch?v=yhs-ik8ameg&list=RDQMgTJmXAVobVk&start_radio=1\n",
      "https://www.youtube.com/watch?v=vw_3iMuOvGg\n",
      "https://www.youtube.com/watch?v=C7Uvr61bmoU\n",
      "https://www.youtube.com/watch?v=9i_64eVFiIg\n",
      "https://www.youtube.com/watch?v=Vw6gLypRKmY\n",
      "https://www.youtube.com/watch?v=lJjR906426o&list=PLfCKf0-awunOu2WyLe2pSD2fXUo795xRe\n",
      "https://www.youtube.com/watch?v=eP6epqKP47k\n",
      "https://www.youtube.com/watch?v=-LATVnPcvHI\n",
      "https://www.youtube.com/watch?v=es2dVQu6hpc\n",
      "https://www.youtube.com/watch?v=rfscVS0vtbw\n",
      "https://www.youtube.com/watch?v=UnfmxnFpfdM\n",
      "https://www.youtube.com/watch?v=S9uPNppGsGo\n",
      "https://www.youtube.com/watch?v=Ozy0s1u9TvQ\n",
      "https://www.youtube.com/watch?v=jH85McHenvw\n",
      "https://www.youtube.com/watch?v=niW_BNlb5G0\n",
      "https://www.youtube.com/watch?v=d21POI9bMps\n",
      "https://www.youtube.com/watch?v=DbHokuAvyMs\n",
      "https://www.youtube.com/watch?v=U4HD_oY-wi0\n",
      "https://www.youtube.com/watch?v=j1Hag4Kbpjs\n",
      "https://www.youtube.com/shorts/BExSWsTjUgM\n",
      "https://www.youtube.com/watch?v=mTYz6WGocWQ\n",
      "https://www.youtube.com/shorts/f7dRBPsOwHQ\n",
      "https://www.youtube.com/shorts/hDWUTgwsvKY\n",
      "https://www.youtube.com/watch?v=xZTt6a0Mqic\n",
      "https://www.youtube.com/shorts/uDrT9lhDg5Y\n",
      "https://www.youtube.com/shorts/RTCP95gEwW4\n",
      "https://www.youtube.com/shorts/QlsmtU5DoqU\n",
      "https://www.youtube.com/watch?v=oOUyhGNib2Q\n",
      "https://www.youtube.com/watch?v=a7DH88vk2Sk\n",
      "https://www.youtube.com/watch?v=oIwZp65Nxbk\n",
      "https://www.youtube.com/watch?v=NkBcU8biV4s\n",
      "https://www.youtube.com/watch?v=Gojqw9BQ5qY\n",
      "https://www.youtube.com/watch?v=OqwZGkif3ro\n",
      "https://www.youtube.com/watch?v=je26Ikw2rpg\n",
      "https://www.youtube.com/watch?v=MeOUl7ZjJRM\n",
      "https://www.youtube.com/watch?v=b7wpTHHE6Fs\n",
      "https://www.youtube.com/watch?v=Q1iPPkAk_Ho\n",
      "https://www.youtube.com/watch?v=LH6OIn2lBaI\n",
      "https://www.youtube.com/watch?v=pNBjC32nisg\n",
      "https://www.youtube.com/watch?v=RAwntanK4wQ&list=PLwgFb6VsUj_lQTpQKDtLXKXElQychT_2j\n",
      "https://www.youtube.com/watch?v=ezfr9d7wd_k\n"
     ]
    }
   ],
   "source": [
    "# vou dar scroll na tela\n",
    "from time import sleep\n",
    "\n",
    "for i in range(30):\n",
    "    y = i * 1000\n",
    "    driver.execute_script(f'window.scroll(0, {y})')\n",
    "    sleep(2)\n",
    "\n",
    "lista_videos = driver.find_elements(By.CSS_SELECTOR, 'a#thumbnail')\n",
    "\n",
    "for video in lista_videos:\n",
    "    print(video.get_attribute('href'))"
   ]
  },
  {
   "cell_type": "code",
   "execution_count": null,
   "id": "4dadc821",
   "metadata": {},
   "outputs": [],
   "source": []
  }
 ],
 "metadata": {
  "kernelspec": {
   "display_name": "Python 3 (ipykernel)",
   "language": "python",
   "name": "python3"
  },
  "language_info": {
   "codemirror_mode": {
    "name": "ipython",
    "version": 3
   },
   "file_extension": ".py",
   "mimetype": "text/x-python",
   "name": "python",
   "nbconvert_exporter": "python",
   "pygments_lexer": "ipython3",
   "version": "3.9.12"
  }
 },
 "nbformat": 4,
 "nbformat_minor": 5
}
