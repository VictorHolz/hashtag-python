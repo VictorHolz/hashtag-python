{
 "cells": [
  {
   "cell_type": "markdown",
   "id": "1a7c1896",
   "metadata": {},
   "source": [
    "### iFrames - Atualização\n",
    "- Às vezes, você vai fazer tudo certo no Selenium e aparentemente não vai funcionar seu código\n",
    "- Possivelmente, o elemento que você está tentando selecionar está dentro de um iframe"
   ]
  },
  {
   "cell_type": "code",
   "execution_count": 1,
   "id": "737c854f",
   "metadata": {},
   "outputs": [],
   "source": [
    "# Queremos pegar os pontos por jogo mandante da 1° linha da tabela\n",
    "\n",
    "link = 'https://pbdatatrader.com.br/jogosdodia'\n",
    "\n",
    "# Normalmente:\n",
    "\n",
    "from selenium import webdriver\n",
    "from selenium.webdriver.chrome.service import Service\n",
    "from selenium.webdriver.common.by import By\n",
    "from webdriver_manager.chrome import ChromeDriverManager\n",
    "\n",
    "servico = Service(ChromeDriverManager().install())\n",
    "driver = webdriver.Chrome(service=servico)"
   ]
  },
  {
   "cell_type": "code",
   "execution_count": 3,
   "id": "d4c52fda",
   "metadata": {},
   "outputs": [],
   "source": [
    "from time import sleep\n",
    "driver.get(link)\n",
    "sleep(10)"
   ]
  },
  {
   "cell_type": "code",
   "execution_count": 6,
   "id": "2798ffb4",
   "metadata": {},
   "outputs": [
    {
     "name": "stdout",
     "output_type": "stream",
     "text": [
      "1,33\n"
     ]
    }
   ],
   "source": [
    "iframe = driver.find_element(By.TAG_NAME, 'iframe')\n",
    "driver.switch_to.frame(iframe)\n",
    "\n",
    "iframe = driver.find_element(By.TAG_NAME, 'iframe')\n",
    "driver.switch_to.frame(iframe)\n",
    "\n",
    "valor_xpath = '//*[@id=\"pvExplorationHost\"]/div/div/exploration/div/explore-canvas/div/div[2]/div/div[2]/div[2]/visual-container-repeat/visual-container[19]/transform/div/div[2]/div/visual-modern/div/div/div[2]/div[1]/div[4]/div/div[1]/div[8]'\n",
    "texto = driver.find_element(By.XPATH, valor_xpath).text\n",
    "print(texto)"
   ]
  },
  {
   "cell_type": "code",
   "execution_count": 5,
   "id": "ebcf61c5",
   "metadata": {},
   "outputs": [
    {
     "data": {
      "text/plain": [
       "2"
      ]
     },
     "execution_count": 5,
     "metadata": {},
     "output_type": "execute_result"
    }
   ],
   "source": [
    "iframes = driver.find_elements(By.TAG_NAME, 'iframe')\n",
    "len(iframes)"
   ]
  },
  {
   "cell_type": "code",
   "execution_count": null,
   "id": "6ce5f6ed",
   "metadata": {},
   "outputs": [],
   "source": []
  }
 ],
 "metadata": {
  "kernelspec": {
   "display_name": "Python 3 (ipykernel)",
   "language": "python",
   "name": "python3"
  },
  "language_info": {
   "codemirror_mode": {
    "name": "ipython",
    "version": 3
   },
   "file_extension": ".py",
   "mimetype": "text/x-python",
   "name": "python",
   "nbconvert_exporter": "python",
   "pygments_lexer": "ipython3",
   "version": "3.9.12"
  }
 },
 "nbformat": 4,
 "nbformat_minor": 5
}
