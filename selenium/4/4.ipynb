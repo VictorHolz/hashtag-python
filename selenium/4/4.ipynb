{
 "cells": [
  {
   "cell_type": "code",
   "execution_count": 13,
   "id": "aabf9906",
   "metadata": {},
   "outputs": [],
   "source": [
    "from selenium import webdriver\n",
    "from selenium.webdriver.common.by import By\n",
    "\n",
    "driver = webdriver.Chrome()\n",
    "driver.get('file:///home/victor/Área de Trabalho/selenium/4/Pagina Hashtag.html')\n",
    "driver.find_element(By.CSS_SELECTOR, '#fullname').send_keys('Victor')\n",
    "driver.find_element(By.CSS_SELECTOR, '#email').send_keys('victormholz@gmail.com')\n",
    "driver.find_element(By.CSS_SELECTOR, '#_form_176_submit').click()"
   ]
  },
  {
   "cell_type": "code",
   "execution_count": null,
   "id": "741812e9",
   "metadata": {},
   "outputs": [],
   "source": []
  }
 ],
 "metadata": {
  "kernelspec": {
   "display_name": "Python 3 (ipykernel)",
   "language": "python",
   "name": "python3"
  },
  "language_info": {
   "codemirror_mode": {
    "name": "ipython",
    "version": 3
   },
   "file_extension": ".py",
   "mimetype": "text/x-python",
   "name": "python",
   "nbconvert_exporter": "python",
   "pygments_lexer": "ipython3",
   "version": "3.9.12"
  }
 },
 "nbformat": 4,
 "nbformat_minor": 5
}
