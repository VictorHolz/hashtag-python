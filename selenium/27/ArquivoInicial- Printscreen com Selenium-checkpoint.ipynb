{
 "cells": [
  {
   "cell_type": "markdown",
   "id": "7e990faa",
   "metadata": {},
   "source": [
    "### Abrindo o navegador"
   ]
  },
  {
   "cell_type": "code",
   "execution_count": 1,
   "id": "fe458edf",
   "metadata": {},
   "outputs": [],
   "source": [
    "from selenium import webdriver\n",
    "from selenium.webdriver.chrome.service import Service\n",
    "from webdriver_manager.chrome import ChromeDriverManager\n",
    "from selenium.webdriver.common.by import By\n",
    "\n",
    "servico = Service(ChromeDriverManager().install())\n",
    "navegador = webdriver.Chrome(service=servico)"
   ]
  },
  {
   "cell_type": "code",
   "execution_count": 2,
   "id": "7f376de9",
   "metadata": {},
   "outputs": [],
   "source": [
    "import os\n",
    "\n",
    "caminho = 'file://' + os.getcwd()\n",
    "arquivo = caminho + \"/Pagina Hashtag.html\"\n",
    "navegador.get(arquivo)"
   ]
  },
  {
   "cell_type": "markdown",
   "id": "b4f29156",
   "metadata": {},
   "source": [
    "### Tirando print da tela inteira"
   ]
  },
  {
   "cell_type": "code",
   "execution_count": 3,
   "id": "0f9ded01",
   "metadata": {},
   "outputs": [
    {
     "data": {
      "text/plain": [
       "True"
      ]
     },
     "execution_count": 3,
     "metadata": {},
     "output_type": "execute_result"
    }
   ],
   "source": [
    "navegador.save_screenshot('print.png')"
   ]
  },
  {
   "cell_type": "markdown",
   "id": "034f941a",
   "metadata": {},
   "source": [
    "### Tirando print de parte da tela"
   ]
  },
  {
   "cell_type": "code",
   "execution_count": 4,
   "id": "f671d684",
   "metadata": {},
   "outputs": [],
   "source": [
    "from PIL import Image\n",
    "\n",
    "imagem = Image.open('print.png')\n",
    "\n",
    "elemento = navegador.find_element(By.ID, 'header')\n",
    "posicao = elemento.location\n",
    "tamanho = elemento.size\n",
    "\n",
    "x_inicial = posicao['x']\n",
    "y_inicial = posicao['y']\n",
    "x_final = x_inicial + tamanho['width']\n",
    "y_final = y_inicial + tamanho['height']\n",
    "\n",
    "imagem = imagem.crop((x_inicial, y_inicial, x_final, y_final))\n",
    "imagem.save('print-pedaco.png')"
   ]
  },
  {
   "cell_type": "code",
   "execution_count": null,
   "id": "d1e16873",
   "metadata": {},
   "outputs": [],
   "source": []
  }
 ],
 "metadata": {
  "kernelspec": {
   "display_name": "Python 3 (ipykernel)",
   "language": "python",
   "name": "python3"
  },
  "language_info": {
   "codemirror_mode": {
    "name": "ipython",
    "version": 3
   },
   "file_extension": ".py",
   "mimetype": "text/x-python",
   "name": "python",
   "nbconvert_exporter": "python",
   "pygments_lexer": "ipython3",
   "version": "3.9.12"
  }
 },
 "nbformat": 4,
 "nbformat_minor": 5
}
