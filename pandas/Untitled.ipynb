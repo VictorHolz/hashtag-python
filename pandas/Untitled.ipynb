{
 "cells": [
  {
   "cell_type": "code",
   "execution_count": 69,
   "id": "c0791fa4",
   "metadata": {
    "scrolled": false
   },
   "outputs": [
    {
     "data": {
      "text/html": [
       "<div>\n",
       "<style scoped>\n",
       "    .dataframe tbody tr th:only-of-type {\n",
       "        vertical-align: middle;\n",
       "    }\n",
       "\n",
       "    .dataframe tbody tr th {\n",
       "        vertical-align: top;\n",
       "    }\n",
       "\n",
       "    .dataframe thead th {\n",
       "        text-align: right;\n",
       "    }\n",
       "</style>\n",
       "<table border=\"1\" class=\"dataframe\">\n",
       "  <thead>\n",
       "    <tr style=\"text-align: right;\">\n",
       "      <th></th>\n",
       "      <th>Codigo do Servico</th>\n",
       "      <th>ID Funcionário</th>\n",
       "      <th>ID Cliente</th>\n",
       "      <th>Tempo de Contrato</th>\n",
       "    </tr>\n",
       "  </thead>\n",
       "  <tbody>\n",
       "    <tr>\n",
       "      <th>0</th>\n",
       "      <td>OS0001</td>\n",
       "      <td>67</td>\n",
       "      <td>1</td>\n",
       "      <td>14</td>\n",
       "    </tr>\n",
       "    <tr>\n",
       "      <th>1</th>\n",
       "      <td>OS0002</td>\n",
       "      <td>17</td>\n",
       "      <td>2</td>\n",
       "      <td>12</td>\n",
       "    </tr>\n",
       "    <tr>\n",
       "      <th>2</th>\n",
       "      <td>OS0003</td>\n",
       "      <td>116</td>\n",
       "      <td>4</td>\n",
       "      <td>14</td>\n",
       "    </tr>\n",
       "    <tr>\n",
       "      <th>3</th>\n",
       "      <td>OS0004</td>\n",
       "      <td>37</td>\n",
       "      <td>5</td>\n",
       "      <td>8</td>\n",
       "    </tr>\n",
       "    <tr>\n",
       "      <th>4</th>\n",
       "      <td>OS0005</td>\n",
       "      <td>130</td>\n",
       "      <td>6</td>\n",
       "      <td>8</td>\n",
       "    </tr>\n",
       "    <tr>\n",
       "      <th>...</th>\n",
       "      <td>...</td>\n",
       "      <td>...</td>\n",
       "      <td>...</td>\n",
       "      <td>...</td>\n",
       "    </tr>\n",
       "    <tr>\n",
       "      <th>232</th>\n",
       "      <td>OS0233</td>\n",
       "      <td>111</td>\n",
       "      <td>315</td>\n",
       "      <td>4</td>\n",
       "    </tr>\n",
       "    <tr>\n",
       "      <th>233</th>\n",
       "      <td>OS0234</td>\n",
       "      <td>124</td>\n",
       "      <td>316</td>\n",
       "      <td>8</td>\n",
       "    </tr>\n",
       "    <tr>\n",
       "      <th>234</th>\n",
       "      <td>OS0235</td>\n",
       "      <td>72</td>\n",
       "      <td>317</td>\n",
       "      <td>6</td>\n",
       "    </tr>\n",
       "    <tr>\n",
       "      <th>235</th>\n",
       "      <td>OS0236</td>\n",
       "      <td>90</td>\n",
       "      <td>319</td>\n",
       "      <td>14</td>\n",
       "    </tr>\n",
       "    <tr>\n",
       "      <th>236</th>\n",
       "      <td>OS0237</td>\n",
       "      <td>22</td>\n",
       "      <td>320</td>\n",
       "      <td>12</td>\n",
       "    </tr>\n",
       "  </tbody>\n",
       "</table>\n",
       "<p>237 rows × 4 columns</p>\n",
       "</div>"
      ],
      "text/plain": [
       "    Codigo do Servico  ID Funcionário  ID Cliente  Tempo de Contrato\n",
       "0              OS0001              67           1                 14\n",
       "1              OS0002              17           2                 12\n",
       "2              OS0003             116           4                 14\n",
       "3              OS0004              37           5                  8\n",
       "4              OS0005             130           6                  8\n",
       "..                ...             ...         ...                ...\n",
       "232            OS0233             111         315                  4\n",
       "233            OS0234             124         316                  8\n",
       "234            OS0235              72         317                  6\n",
       "235            OS0236              90         319                 14\n",
       "236            OS0237              22         320                 12\n",
       "\n",
       "[237 rows x 4 columns]"
      ]
     },
     "execution_count": 69,
     "metadata": {},
     "output_type": "execute_result"
    }
   ],
   "source": [
    "import pandas as pd\n",
    "\n",
    "funcionarios_df = pd.read_csv('CadastroFuncionarios.csv', sep=';', decimal=',')\n",
    "clientes_df = pd.read_csv('CadastroClientes.csv', sep=';')\n",
    "servicos_df = pd.read_excel('BaseServicos.xlsx').rename(columns={'Tempo Total de Contrato (Meses)': 'Tempo de Contrato'})\n",
    "\n",
    "servicos_df"
   ]
  },
  {
   "cell_type": "code",
   "execution_count": 11,
   "id": "7dbbd212",
   "metadata": {
    "scrolled": true
   },
   "outputs": [
    {
     "name": "stdout",
     "output_type": "stream",
     "text": [
      "Total da folha salarial mensal é de R$2,717,493.22\n"
     ]
    }
   ],
   "source": [
    "funcionarios_df['Salario Total'] = funcionarios_df['Salario Base'] + funcionarios_df['Impostos'] + funcionarios_df['Beneficios'] + funcionarios_df['VT'] + funcionarios_df['VR']\n",
    "print('Total da folha salarial mensal é de R${:,}'.format(funcionarios_df[\"Salario Total\"].sum()))"
   ]
  },
  {
   "cell_type": "code",
   "execution_count": 34,
   "id": "9f3377a0",
   "metadata": {},
   "outputs": [
    {
     "name": "stdout",
     "output_type": "stream",
     "text": [
      "O faturamental total é de R$5,628,330.0\n"
     ]
    }
   ],
   "source": [
    "servicos_df['Faturamento Total'] = clientes_df['Valor Contrato Mensal'] * servicos_df['Tempo de Contrato']\n",
    "print('O faturamental total é de R${:,}'.format(servicos_df['Faturamento Total'].sum()))"
   ]
  },
  {
   "cell_type": "code",
   "execution_count": 67,
   "id": "acf9b7ea",
   "metadata": {},
   "outputs": [],
   "source": [
    "funcionarios = set(servicos_df['ID Funcionário'])\n",
    "vistos = set()\n",
    "for id in funcionarios_df['ID Funcionário']:\n",
    "    if id in funcionarios:\n",
    "        vistos.add(id)"
   ]
  },
  {
   "cell_type": "code",
   "execution_count": 71,
   "id": "c98609cc",
   "metadata": {},
   "outputs": [
    {
     "name": "stdout",
     "output_type": "stream",
     "text": [
      "0.868421052631579% dos funcionários fecharam serviços.\n"
     ]
    }
   ],
   "source": [
    "qtde_funcionarios_fecharam = len(servicos_df['ID Funcionário'].unique())\n",
    "qtde_funcionarios_total = len(funcionarios_df['ID Funcionário'])\n",
    "print('{}% dos funcionários fecharam serviços.'.format(qtde_funcionarios_fecharam / qtde_funcionarios_total))"
   ]
  },
  {
   "cell_type": "code",
   "execution_count": null,
   "id": "61700c15",
   "metadata": {},
   "outputs": [],
   "source": []
  }
 ],
 "metadata": {
  "kernelspec": {
   "display_name": "Python 3 (ipykernel)",
   "language": "python",
   "name": "python3"
  },
  "language_info": {
   "codemirror_mode": {
    "name": "ipython",
    "version": 3
   },
   "file_extension": ".py",
   "mimetype": "text/x-python",
   "name": "python",
   "nbconvert_exporter": "python",
   "pygments_lexer": "ipython3",
   "version": "3.8.10"
  }
 },
 "nbformat": 4,
 "nbformat_minor": 5
}
