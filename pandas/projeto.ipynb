{
 "cells": [
  {
   "cell_type": "code",
   "execution_count": 42,
   "id": "c0791fa4",
   "metadata": {
    "scrolled": false
   },
   "outputs": [],
   "source": [
    "import pandas as pd\n",
    "\n",
    "funcionarios_df = pd.read_csv('CadastroFuncionarios.csv', sep=';', decimal=',')\n",
    "clientes_df = pd.read_csv('CadastroClientes.csv', sep=';')\n",
    "servicos_df = pd.read_excel('BaseServicos.xlsx').rename(columns={'Tempo Total de Contrato (Meses)': 'Tempo de Contrato'})\n"
   ]
  },
  {
   "cell_type": "code",
   "execution_count": 11,
   "id": "7dbbd212",
   "metadata": {
    "scrolled": true
   },
   "outputs": [
    {
     "name": "stdout",
     "output_type": "stream",
     "text": [
      "Total da folha salarial mensal é de R$2,717,493.22\n"
     ]
    }
   ],
   "source": [
    "funcionarios_df['Salario Total'] = funcionarios_df['Salario Base'] + funcionarios_df['Impostos'] + funcionarios_df['Beneficios'] + funcionarios_df['VT'] + funcionarios_df['VR']\n",
    "print('Total da folha salarial mensal é de R${:,}'.format(funcionarios_df[\"Salario Total\"].sum()))"
   ]
  },
  {
   "cell_type": "code",
   "execution_count": 79,
   "id": "91695964",
   "metadata": {},
   "outputs": [
    {
     "name": "stdout",
     "output_type": "stream",
     "text": [
      "5519160\n"
     ]
    }
   ],
   "source": [
    "faturamentos_df = servicos_df[['ID Cliente', 'Tempo de Contrato']].merge(clientes_df[['ID Cliente', 'Valor Contrato Mensal']])\n",
    "faturamentos_df['Faturamento Total'] = faturamentos_df['Tempo de Contrato'] * faturamentos_df['Valor Contrato Mensal']\n",
    "print(sum(faturamentos_df['Faturamento Total']))"
   ]
  },
  {
   "cell_type": "code",
   "execution_count": 50,
   "id": "df7be138",
   "metadata": {
    "scrolled": true
   },
   "outputs": [
    {
     "name": "stdout",
     "output_type": "stream",
     "text": [
      "0.868421% dos funcionários fecharam serviços.\n"
     ]
    }
   ],
   "source": [
    "qtde_funcionarios_fecharam = len(servicos_df['ID Funcionário'].unique())\n",
    "qtde_funcionarios_total = len(funcionarios_df['ID Funcionário'])\n",
    "print('{:.2f}% dos funcionários fecharam serviços.'.format(qtde_funcionarios_fecharam / qtde_funcionarios_total))"
   ]
  },
  {
   "cell_type": "code",
   "execution_count": 62,
   "id": "b4149e2e",
   "metadata": {},
   "outputs": [
    {
     "data": {
      "text/plain": [
       "Administrativo    63\n",
       "Operações         48\n",
       "Comercial         44\n",
       "Financeiro        42\n",
       "Logística         40\n",
       "Name: Area, dtype: int64"
      ]
     },
     "execution_count": 62,
     "metadata": {},
     "output_type": "execute_result"
    }
   ],
   "source": [
    "servicos_area_df = servicos_df[['ID Funcionário', ]].merge(funcionarios_df[['ID Funcionário', 'Area']], on='ID Funcionário')\n",
    "servicos_area_df['Area'].value_counts()"
   ]
  },
  {
   "cell_type": "code",
   "execution_count": 77,
   "id": "e6282aa7",
   "metadata": {},
   "outputs": [
    {
     "data": {
      "text/plain": [
       "Administrativo    26\n",
       "Comercial         26\n",
       "Operações         23\n",
       "Logística         21\n",
       "Financeiro        18\n",
       "Name: Area, dtype: int64"
      ]
     },
     "execution_count": 77,
     "metadata": {},
     "output_type": "execute_result"
    }
   ],
   "source": [
    "funcionarios_df['Area'].value_counts()"
   ]
  },
  {
   "cell_type": "code",
   "execution_count": 93,
   "id": "aee25d88",
   "metadata": {},
   "outputs": [
    {
     "data": {
      "text/plain": [
       "2438.3544303797466"
      ]
     },
     "execution_count": 93,
     "metadata": {},
     "output_type": "execute_result"
    }
   ],
   "source": [
    "faturamentos_df['Valor Contrato Mensal'].mean()"
   ]
  },
  {
   "cell_type": "code",
   "execution_count": null,
   "id": "b98e7ab1",
   "metadata": {},
   "outputs": [],
   "source": []
  }
 ],
 "metadata": {
  "kernelspec": {
   "display_name": "Python 3 (ipykernel)",
   "language": "python",
   "name": "python3"
  },
  "language_info": {
   "codemirror_mode": {
    "name": "ipython",
    "version": 3
   },
   "file_extension": ".py",
   "mimetype": "text/x-python",
   "name": "python",
   "nbconvert_exporter": "python",
   "pygments_lexer": "ipython3",
   "version": "3.8.10"
  }
 },
 "nbformat": 4,
 "nbformat_minor": 5
}
