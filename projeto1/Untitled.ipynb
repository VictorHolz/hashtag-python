{
 "cells": [
  {
   "cell_type": "code",
   "execution_count": 7,
   "id": "c9cac956",
   "metadata": {},
   "outputs": [
    {
     "name": "stdout",
     "output_type": "stream",
     "text": [
      "100743    25\n",
      "100763    25\n",
      "100813    25\n",
      "100833    25\n",
      "100834    25\n",
      "100835    25\n",
      "100836    25\n",
      "100846    25\n",
      "100847    25\n",
      "100854    25\n",
      "100894    25\n",
      "100920    25\n",
      "100921    25\n",
      "Name: Data, dtype: int64 100743    12\n",
      "100763    12\n",
      "100813    12\n",
      "100833    12\n",
      "100834    12\n",
      "100835    12\n",
      "100836    12\n",
      "100846    12\n",
      "100847    12\n",
      "100854    12\n",
      "100894    12\n",
      "100920    12\n",
      "100921    12\n",
      "Name: Data, dtype: int64\n"
     ]
    },
    {
     "name": "stderr",
     "output_type": "stream",
     "text": [
      "/tmp/ipykernel_108677/3136816165.py:22: UserWarning: Boolean Series key will be reindexed to match DataFrame index.\n",
      "  df_temp = df_temp[vendas_df['Data'] == df_temp['Data'].max()]\n"
     ]
    },
    {
     "ename": "ValueError",
     "evalue": "Header values may not contain linefeed or carriage return characters",
     "output_type": "error",
     "traceback": [
      "\u001b[0;31m---------------------------------------------------------------------------\u001b[0m",
      "\u001b[0;31mValueError\u001b[0m                                Traceback (most recent call last)",
      "Input \u001b[0;32mIn [7]\u001b[0m, in \u001b[0;36m<cell line: 15>\u001b[0;34m()\u001b[0m\n\u001b[1;32m     30\u001b[0m     msg[\u001b[38;5;124m'\u001b[39m\u001b[38;5;124mFrom\u001b[39m\u001b[38;5;124m'\u001b[39m] \u001b[38;5;241m=\u001b[39m \u001b[38;5;124m'\u001b[39m\u001b[38;5;124mvictormholz@gmail.com\u001b[39m\u001b[38;5;124m'\u001b[39m\n\u001b[1;32m     31\u001b[0m     msg[\u001b[38;5;124m'\u001b[39m\u001b[38;5;124mTo\u001b[39m\u001b[38;5;124m'\u001b[39m] \u001b[38;5;241m=\u001b[39m emails_df[\u001b[38;5;124m'\u001b[39m\u001b[38;5;124mE-mail\u001b[39m\u001b[38;5;124m'\u001b[39m][i \u001b[38;5;241m-\u001b[39m \u001b[38;5;241m1\u001b[39m]\n\u001b[0;32m---> 32\u001b[0m     msg[\u001b[38;5;124m'\u001b[39m\u001b[38;5;124mSubject\u001b[39m\u001b[38;5;124m'\u001b[39m] \u001b[38;5;241m=\u001b[39m \u001b[38;5;124m'''\u001b[39m\n\u001b[1;32m     33\u001b[0m \n\u001b[1;32m     34\u001b[0m \u001b[38;5;124m'''\u001b[39m\n",
      "File \u001b[0;32m~/anaconda3/lib/python3.9/email/message.py:409\u001b[0m, in \u001b[0;36mMessage.__setitem__\u001b[0;34m(self, name, val)\u001b[0m\n\u001b[1;32m    406\u001b[0m             \u001b[38;5;28;01mif\u001b[39;00m found \u001b[38;5;241m>\u001b[39m\u001b[38;5;241m=\u001b[39m max_count:\n\u001b[1;32m    407\u001b[0m                 \u001b[38;5;28;01mraise\u001b[39;00m \u001b[38;5;167;01mValueError\u001b[39;00m(\u001b[38;5;124m\"\u001b[39m\u001b[38;5;124mThere may be at most \u001b[39m\u001b[38;5;132;01m{}\u001b[39;00m\u001b[38;5;124m \u001b[39m\u001b[38;5;132;01m{}\u001b[39;00m\u001b[38;5;124m headers \u001b[39m\u001b[38;5;124m\"\u001b[39m\n\u001b[1;32m    408\u001b[0m                                  \u001b[38;5;124m\"\u001b[39m\u001b[38;5;124min a message\u001b[39m\u001b[38;5;124m\"\u001b[39m\u001b[38;5;241m.\u001b[39mformat(max_count, name))\n\u001b[0;32m--> 409\u001b[0m \u001b[38;5;28mself\u001b[39m\u001b[38;5;241m.\u001b[39m_headers\u001b[38;5;241m.\u001b[39mappend(\u001b[38;5;28;43mself\u001b[39;49m\u001b[38;5;241;43m.\u001b[39;49m\u001b[43mpolicy\u001b[49m\u001b[38;5;241;43m.\u001b[39;49m\u001b[43mheader_store_parse\u001b[49m\u001b[43m(\u001b[49m\u001b[43mname\u001b[49m\u001b[43m,\u001b[49m\u001b[43m \u001b[49m\u001b[43mval\u001b[49m\u001b[43m)\u001b[49m)\n",
      "File \u001b[0;32m~/anaconda3/lib/python3.9/email/policy.py:146\u001b[0m, in \u001b[0;36mEmailPolicy.header_store_parse\u001b[0;34m(self, name, value)\u001b[0m\n\u001b[1;32m    142\u001b[0m     \u001b[38;5;28;01mreturn\u001b[39;00m (name, value)\n\u001b[1;32m    143\u001b[0m \u001b[38;5;28;01mif\u001b[39;00m \u001b[38;5;28misinstance\u001b[39m(value, \u001b[38;5;28mstr\u001b[39m) \u001b[38;5;129;01mand\u001b[39;00m \u001b[38;5;28mlen\u001b[39m(value\u001b[38;5;241m.\u001b[39msplitlines())\u001b[38;5;241m>\u001b[39m\u001b[38;5;241m1\u001b[39m:\n\u001b[1;32m    144\u001b[0m     \u001b[38;5;66;03m# XXX this error message isn't quite right when we use splitlines\u001b[39;00m\n\u001b[1;32m    145\u001b[0m     \u001b[38;5;66;03m# (see issue 22233), but I'm not sure what should happen here.\u001b[39;00m\n\u001b[0;32m--> 146\u001b[0m     \u001b[38;5;28;01mraise\u001b[39;00m \u001b[38;5;167;01mValueError\u001b[39;00m(\u001b[38;5;124m\"\u001b[39m\u001b[38;5;124mHeader values may not contain linefeed \u001b[39m\u001b[38;5;124m\"\u001b[39m\n\u001b[1;32m    147\u001b[0m                      \u001b[38;5;124m\"\u001b[39m\u001b[38;5;124mor carriage return characters\u001b[39m\u001b[38;5;124m\"\u001b[39m)\n\u001b[1;32m    148\u001b[0m \u001b[38;5;28;01mreturn\u001b[39;00m (name, \u001b[38;5;28mself\u001b[39m\u001b[38;5;241m.\u001b[39mheader_factory(name, value))\n",
      "\u001b[0;31mValueError\u001b[0m: Header values may not contain linefeed or carriage return characters"
     ]
    }
   ],
   "source": [
    "import pandas as pd\n",
    "import smtplib\n",
    "from email.message import EmailMessage\n",
    "\n",
    "vendas_df = pd.read_excel('Bases de Dados/Vendas.xlsx')\n",
    "lojas_df = pd.read_csv('Bases de Dados/Lojas.csv', sep=';', encoding='latin1')\n",
    "emails_df = pd.read_excel('Bases de Dados/Emails.xlsx')\n",
    "\n",
    "EMAIL_ADRESS = 'victormholz@gmail.com'\n",
    "EMAIL_PASSWORD = 'sK5387417MAo#81tE2wyK81@'\n",
    "msg = EmailMessage()\n",
    "\n",
    "lojas = [loja for loja in lojas_df['Loja']]\n",
    "\n",
    "for i in range(1, 26):\n",
    "    # ano\n",
    "    df_temp = vendas_df[vendas_df['ID Loja'] == i]\n",
    "    faturamento_ano = df_temp['Valor Final'].sum()\n",
    "    diversidade_ano = len(df_temp['Produto'].value_counts())\n",
    "    ticket_ano = df_temp['Valor Final'].mean()\n",
    "    # dia\n",
    "    df_temp = df_temp[vendas_df['Data'] == df_temp['Data'].max()]\n",
    "    faturamento_dia = df_temp['Valor Final'].sum()\n",
    "    diversidade_dia = len(df_temp['Produto'].value_counts())\n",
    "    ticket_dia = df_temp['Valor Final'].mean()\n",
    "    dia = df_temp['Data'].dt.day\n",
    "    mes = df_temp['Data'].dt.month\n",
    "    # email\n",
    "    email = mails_df['E-mail'][i - 1]\n",
    "    gerente = mails_df['Gerente'][i - 1]\n",
    "    \n",
    "    msg['From'] = 'victormholz@gmail.com'\n",
    "    msg['To'] = emails\n",
    "    msg['Subject'] = f'''Bom dia, {gerente}\n",
    "\n",
    "O resultado de ontem (dia {dia}/{mes}) da loja {lojas[i - 1]} foi:\n",
    "\n",
    "Segue em anexo a planilha com todos os dados para mais detalhes.\n",
    "Qualquer dúvida, estou à disposição.\n",
    "\n",
    "Att,\n",
    "Fulano\n",
    "'''\n",
    "    msg.set_content()\n",
    "    with smtplib.SMTP_SSL('smtp.gmail.com', 465) as smtp:\n",
    "        smtp.login(EMAIL_ADRESS, EMAIL_PASSWORD)\n",
    "        smtp.send_message(msg)\n",
    "        df.to_excel(f'Backup Arquivos Lojas/{lojas[i - 1]}.xlsx')"
   ]
  },
  {
   "cell_type": "code",
   "execution_count": null,
   "id": "520c8093",
   "metadata": {},
   "outputs": [],
   "source": []
  }
 ],
 "metadata": {
  "kernelspec": {
   "display_name": "Python 3 (ipykernel)",
   "language": "python",
   "name": "python3"
  },
  "language_info": {
   "codemirror_mode": {
    "name": "ipython",
    "version": 3
   },
   "file_extension": ".py",
   "mimetype": "text/x-python",
   "name": "python",
   "nbconvert_exporter": "python",
   "pygments_lexer": "ipython3",
   "version": "3.9.12"
  }
 },
 "nbformat": 4,
 "nbformat_minor": 5
}
